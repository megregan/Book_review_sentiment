{
 "cells": [
  {
   "cell_type": "code",
   "execution_count": 10,
   "metadata": {},
   "outputs": [],
   "source": [
    "# Import libraries\n",
    "from bs4 import BeautifulSoup\n",
    "import os\n",
    "import requests\n",
    "import pandas as pd\n",
    "import matplotlib.pyplot as plt\n",
    "from langdetect import detect\n",
    "from nltk.sentiment.vader import SentimentIntensityAnalyzer\n",
    "from nltk.corpus import names \n",
    "from datetime import datetime\n",
    "import numpy as np\n",
    "import seaborn as sns\n",
    "#corpora of male and female names \n",
    "male_names = names.words('male.txt')\n",
    "female_names = names.words('female.txt')"
   ]
  },
  {
   "cell_type": "code",
   "execution_count": 11,
   "metadata": {},
   "outputs": [
    {
     "name": "stdout",
     "output_type": "stream",
     "text": [
      "Collecting package metadata (repodata.json): done\n",
      "Solving environment: done\n",
      "\n",
      "# All requested packages already installed.\n",
      "\n",
      "\n",
      "Note: you may need to restart the kernel to use updated packages.\n"
     ]
    }
   ],
   "source": [
    "conda install -c conda-forge langdetect"
   ]
  },
  {
   "cell_type": "markdown",
   "metadata": {},
   "source": [
    "Note: At the end of the notebook I do some specific analysis using some data collected. There's randomness involved in collected the data so if you rerun the note book then the analysis at the end mightn't make sense. \n",
    "\n",
    "The goal of this project is to create a data frame that could be used for analysis of goodreads reviews. \n",
    "There are five basic steps:\n",
    "1. Scrape URLs of the goodreads pages of books\n",
    "2. Scrape the wanted data from these goodreads pages\n",
    "3. Store this data \n",
    "4. Preform sentiment analysis on the reviews\n",
    "5. Store all the data in a pandas dataframe\n",
    "\n",
    "Each of these steps is preformed in a different function. The function 'scrape_all_genres_and_get_dataset' calls each of these functions and returns the finished dataframe. "
   ]
  },
  {
   "cell_type": "code",
   "execution_count": 12,
   "metadata": {},
   "outputs": [],
   "source": [
    "def scrape_all_genres_and_get_dataset(genre_list, book_per_genre_limit, review_limit):\n",
    "    '''\n",
    "    Given a list of genres this function scrapes book reviews and the authors name from the goodreads website \n",
    "    It uses VADER Sentiment Analysis to get the sentiment of the reviews \n",
    "    and returns a dataframe which contains the sentiment score for each book with the genre, authors gender and book id.\n",
    "    \n",
    "    parameters: \n",
    "        genre_list (list of str): a list of genres\n",
    "        book_per_genre_limit (int): The max number of books per genre\n",
    "        review_limit (int): the max number of reviews per book\n",
    "    \n",
    "    return: \n",
    "        dataframe (pandas.DataFrame): a pandas dataframe with a row for each review and where the columns are the URL for the book, the authors gender, the genre of the book and the sentiment score of the review.\n",
    "    '''\n",
    "    #Initialising a list of the URLs for books. \n",
    "    all_book_urls= list()\n",
    "    #A dictionary where the a book's URL is the key and the value is the genre of the book.\n",
    "    book_genres = dict()\n",
    "    #all_book_urls is extended with URLs for books in a given genre.\n",
    "    for genre in genre_list:\n",
    "        all_book_urls.extend(scrape_book_links_from_genre(genre, book_per_genre_limit, book_genres))\n",
    "    #scraping and storing the data from the book pages\n",
    "    parsed_books,titles,author_gender,ratings = scrape_reviews_from_books(all_book_urls, review_limit)\n",
    "    #Proforming sentiment analysis\n",
    "    scores = sentiment_analysis(parsed_books)\n",
    "    #Making a dataframe\n",
    "    dataframe = make_dataframe(book_genres,scores,titles,author_gender,ratings)\n",
    "    return(dataframe)"
   ]
  },
  {
   "cell_type": "markdown",
   "metadata": {},
   "source": [
    "In this project it is necessary to make a http get request multiple times. A http get request is used to request data from a specified source, in this case goodreads. The request library performs the http requests. The response from the http request returns a HTML webpage. A beautiful soup object represents HTML files as nested data structures. This makes it easier to retrieve the data you want from the file. \n",
    "Once I have the beautiful soup object of the HTML webpage I can then scrape the information I want from it."
   ]
  },
  {
   "cell_type": "code",
   "execution_count": 13,
   "metadata": {},
   "outputs": [],
   "source": [
    "def make_http_get_request(url):\n",
    "    '''\n",
    "    This function takes a url and returns a beautiful soup object of the http response content.\n",
    "    The request library performs the http request. \n",
    "    \n",
    "    parameters:\n",
    "        url (str): A url to a website\n",
    "    \n",
    "    return:\n",
    "        a beautiful soup object of the http response content\n",
    "    '''\n",
    "    log_it('make_http_get_request() start : '+ url)\n",
    "    link_root = \"https://www.goodreads.com\"\n",
    "    headers = requests.utils.default_headers()\n",
    "    headers.update({ 'User-Agent': 'Mozilla/5.0 (X11; Ubuntu; Linux x86_64; rv:52.0) Gecko/20100101 Firefox/52.0'})\n",
    "    response = requests.get(link_root + url, headers)\n",
    "    log_it('make_http_get_request() end : '+ url)\n",
    "    return(BeautifulSoup(response.content, 'html.parser'))"
   ]
  },
  {
   "cell_type": "code",
   "execution_count": 4,
   "metadata": {},
   "outputs": [
    {
     "data": {
      "text/plain": [
       "b'{\\r\\n   \"results\":[\\r\\n      {\\r\\n         \"total_cases\":18167709,\\r\\n         \"total_recovered\":11419916,\\r\\n         \"total_unresolved\":5699534,\\r\\n         \"total_deaths\":691193,\\r\\n         \"total_new_cases_today\":159302,\\r\\n         \"total_new_deaths_today\":3177,\\r\\n         \"total_active_cases\":95804,\\r\\n         \"total_serious_cases\":5573170,\\r\\n         \"total_affected_countries\":213,\\r\\n         \"source\":{\\r\\n            \"url\":\"https://thevirustracker.com/\"\\r\\n         }\\r\\n      }\\r\\n   ],\\r\\n   \"stat\":\"ok\"\\r\\n}\\r\\n'"
      ]
     },
     "execution_count": 4,
     "metadata": {},
     "output_type": "execute_result"
    }
   ],
   "source": [
    "\n",
    "import requests\n",
    "\n",
    "url = \"https://thevirustracker.com/free-api?global=stats\"\n",
    "response = requests.get(url)\n",
    "response"
   ]
  },
  {
   "cell_type": "markdown",
   "metadata": {},
   "source": [
    "# Step 1: Scrape links\n",
    "This function creates a beautiful soup object from a goodreads 'shelf' of a given genre. A shelf contains a list of books of said genre. To collect the links to these individual book pages I find all the links with class type 'leftAlignedImage' in the soup.\n",
    "<br>soup.find_all('a', class_='leftAlignedImage'). <br>\n",
    "HTML links are defined by the ‘a’ tag and having looked at the page source I saw that the links with the class attribute 'leftAlignedImage' were the links to the individual book pages.\n",
    "Attributes are a html feature, they provide additional information about an element, elements with the same class attribute have the same style.\n",
    "Now I have a list of beautiful soup tag elements, one for each book. A HTML element has a start tag, an end tag and the content in between. <br>\n",
    "< a class=\"leftAlignedImage\" href=\"/book/show/11588.The_Shining\" title=\"The Shining\"><im alt=\"The Shining\" src=\"https://i.gr-assets.com/images/S/compressed.photo.goodreads.com/books/1353277730l/11588._SY75_.jpg\"/></a > <br>\n",
    "The link address is specified in the ‘href’ attribute. In beautiful soup you can access a tag's attributes like you would a dictionary, tag[attribute]. So I used a list comprehension to get a list of just the link addresses. This is step one complete.<br>\n",
    "I also update the book_genres dictionary with the book page link as its key and the books genre as the value. This will be useful later when making the dataframe so that I can know the genre of each book."
   ]
  },
  {
   "cell_type": "code",
   "execution_count": 14,
   "metadata": {},
   "outputs": [],
   "source": [
    "def scrape_book_links_from_genre(genre, book_per_genre_limit,book_genres):\n",
    "    '''\n",
    "    This function makes a http to the goodreads genre page and then scrapes the links for the books for the given genre\n",
    "    It also makes a dictionary where the keys are the book urls and the values are the genre.\n",
    "    \n",
    "    parameters:\n",
    "        genre (str): A book genre (e.g. fiction)\n",
    "        book_per_genre_limit (int): the max number of books per genre \n",
    "        book_genres (dict): a dictionary\n",
    "    \n",
    "    return:\n",
    "        a list, of size book_per_genre_limit, of the urls to goodreads pages for books in a given genre.\n",
    "    '''\n",
    "    soup = make_http_get_request(\"/shelf/show/\" + genre)\n",
    "    #Finding all the links of class type leftAlignedImage.\n",
    "    genre_book_raw_links = soup.find_all('a', class_='leftAlignedImage')\n",
    "    #using beautiful soup the attribute \"href\" can be indexed\n",
    "    genre_book_links = [link['href'] for link in genre_book_raw_links[0:book_per_genre_limit]]\n",
    "    #Making tuples of the link and its genre. \n",
    "    genre_tuples =[(link,genre) for link in genre_book_links]\n",
    "    genre_tuples_dict = dict(genre_tuples)\n",
    "    book_genres.update(genre_tuples_dict)\n",
    "    return(genre_book_links)"
   ]
  },
  {
   "cell_type": "markdown",
   "metadata": {},
   "source": [
    "# Step 2: Scrape data from the goodreads pages\n",
    "This function scrapes the data from an individual goodreads page. I'll be scraping reviews, star ratings and the authors name. <br>\n",
    "To get the data I had to first view the goodreads page source and find what attributes are assigned to the data I want. This allows me to separate the wanted data from the full html page. For example class = 'readable' was the attribute assigned to book reviews. I found an attribute for star ratings as well and then zipped both of these lists together. This is so that when I'm removing reviews to clean up the data the corresponding star rating will get removed as well and the right review will be matched to the right star rating. To clean up the reviews I removed reviews not in English and empty reviews. I then took a random sample of the remaining reviews. With that done I could separate the two lists again.\n",
    "<br>\n",
    "On good reads ‘liked it' corresponds to a three-star rating, ‘really liked it’ corresponds to a four-star rating and so on. I switched these phrases for their corresponding numbers e.g. 'really liked it' would be changed to 4.\n",
    "I also need to extract the actual review text from the element I got by finding all the elements where class=readable. Within these elements there are usually two span tags. The first span tag contains a preview of the review, the first 100 words or so. The second span contains the entire review. However, if the review is less than 100 words then there will only be one span tag. Therefore, I found all the span tags in the element and if there were two I got the second, the full review, and if there was only one then I got that one. \n",
    "<br>\n",
    "I then removed the quotes from the reviews as quotes would affect the accuracy of the sentiment analysis. Someone writing a negative review could be quoting a positive part of the book and vice versa. Once the quotes were removed I had a list of just the text of the reviews which is what I wanted. \n",
    "<br>\n",
    "Lastly, I got the authors first name using the same method as I used to get the reviews and star ratings.\n",
    "<br>\n",
    "book.find(class_=\"authorName__container\").span.get_text().split()[0]\n",
    "<br>\n",
    "When I use ‘.span’ I am using a beautiful soup method to access the tag <span>. In beautiful soup you can access tags with soup.tag. I then return all this scraped data.\n"
   ]
  },
  {
   "cell_type": "code",
   "execution_count": 16,
   "metadata": {},
   "outputs": [],
   "source": [
    "def scrape_reviews_from_book(book_url, review_limit):\n",
    "    '''\n",
    "    This function scrapes html tag (class=readable) from goodreads book url \n",
    "        (e.g. https://www.goodreads.com/book/show/7094569-feed)\n",
    "    Example of tag this function scrapes \n",
    "        <div class=\"reviewText stacked\">\n",
    "            <span id=\"reviewTextContainer165644673\" class=\"readable\">\n",
    "                <span id=\"freeTextContainer7482633495661466782\">This book has zombies in it, but to call...>\n",
    "                </span>\n",
    "            </span>\n",
    "        </div>\n",
    "    Strategy is to look for class=\"readable\", which goodreads assigned attributes to only book reviews\n",
    "    Then collect a random sample of these reviews and clean the data a bit by removing non English reviews and removing quotes \n",
    "    from inside the reviews. \n",
    "    It was a similar process to find the authors name and star reviews. \n",
    "                    \n",
    "    parameters:\n",
    "        book_url (str): A book URL from goodreads, e.g. https://www.goodreads.com/book/show/7094569-feed\n",
    "        review_limit (int): the max number of reviews per book\n",
    "    \n",
    "    return:\n",
    "        a list of\n",
    "            reviews (list): a list of reviews of the book in question\n",
    "            book_url (str): the url for the book\n",
    "            author_name (str): The authors name\n",
    "            stars_in_nums (list): a list of the star reviews \n",
    "    '''\n",
    "    # A dict where the key is the Goodreads text and the value is the star rating it corresponds to\n",
    "    stars_dict = {'did not like it':1,'it was ok':2, 'liked it':3, 'really liked it':4, 'it was amazing':5}\n",
    "    # A beautiful soup object of the goodreads page\n",
    "    book = make_http_get_request(book_url)\n",
    "    #Finding all objects where the class is 'readable' but exclusing the first one as it is the book description and not a review.\n",
    "    review_list = book.find_all(class_ = 'readable')[1:]\n",
    "    #Getting the star rating awarded for each review\n",
    "    raw_star_list = book.find_all(class_ = 'staticStars notranslate')\n",
    "    #.get_text is a beautiful soup method that allows you to get just the text element of a tag.\n",
    "    star_list = [star_list.get_text() for star_list in raw_star_list]\n",
    "    reviews_and_stars = zip(review_list,star_list)\n",
    "    # Removing empty reviews and reviews not in English. \n",
    "    cleaned_reviews_and_stars = [(review,star) for (review,star) in reviews_and_stars if review.span is not None and detect(review.span.get_text())=='en']\n",
    "    sample_size = review_limit\n",
    "    if len(cleaned_reviews_and_stars) == 0:\n",
    "        return(0)\n",
    "    elif len(cleaned_reviews_and_stars) < sample_size:\n",
    "        sample_size = len(cleaned_reviews_and_stars)\n",
    "    #A list of random numbers where the numbers range from 0 to the length of the cleaned reviews. \n",
    "    random_nums = np.random.choice(len(cleaned_reviews_and_stars), size =sample_size, replace=False)\n",
    "    # A random sample of the reviews.\n",
    "    random_reviews_and_stars = [(cleaned_reviews_and_stars[num]) for num in random_nums]\n",
    "    reviews_seperated, stars = zip(*random_reviews_and_stars)\n",
    "    #Converting the star ratings from words into numbers \n",
    "    stars_in_nums = [stars_dict[star] for star in stars]\n",
    "    #Getting the span tag, which contains the review text, from the review element.\n",
    "    reviews = [review.find_all('span')[1] if len(review.find_all('span')) > 1 else review.find_all('span')[0] for review in reviews_seperated]\n",
    "    #Finding all the quotes in the review\n",
    "    book_quotes = [review.find_all('blockquote') for review in reviews]\n",
    "    reviews_without_quotes = []\n",
    "    for book_review in book_quotes:\n",
    "        review_text = reviews[book_quotes.index(book_review)].get_text()\n",
    "        reviews_without_quotes.append(review_text)\n",
    "        for quote in book_review:\n",
    "            quote = quote.get_text()\n",
    "            review_text = review_text.replace(quote,'')\n",
    "            reviews_without_quotes[book_quotes.index(book_review)] = review_text\n",
    "    #Scraping authors name\n",
    "    author_name = book.find(class_=\"authorName__container\").span.get_text().split()[0]\n",
    "    return([reviews_without_quotes, book_url,author_name,stars_in_nums])"
   ]
  },
  {
   "cell_type": "markdown",
   "metadata": {},
   "source": [
    "# Step 3: Storing the data\n",
    "Now I have all the link addresses for individual book pages and a function to scrape the data I want a page. This function iterates through all of the links collecting the data and storing it in lists and dictionaries so that it is accesible and can be used later."
   ]
  },
  {
   "cell_type": "code",
   "execution_count": 17,
   "metadata": {},
   "outputs": [],
   "source": [
    "def scrape_reviews_from_books(urls,review_limit):\n",
    "    '''\n",
    "    The function stores all the data scraped from all the URLs in lists and dictionaries \n",
    "    \n",
    "    parameters:\n",
    "        urls (list): A list of book urls\n",
    "        review_limit (int): the max number of reviews per book\n",
    "    \n",
    "    \n",
    "    return:\n",
    "        parsed_books: an list containing all the scraped data for each book\n",
    "        titles: a list of the all the URLs\n",
    "        author_gender: a dictionary where the key is the book URL and the value is the authors gender\n",
    "        ratings: A list of star ratings awarded\n",
    "    '''\n",
    "    # Making all my dicts and lists to store the scraped data in\n",
    "    book_genres = dict()\n",
    "    author_gender = {}\n",
    "    parsed_books = []\n",
    "    titles = []\n",
    "    ratings = []\n",
    "    for url in urls:\n",
    "        #scrape_reviews_from_book scrapes all the wanted data from an individual book page\n",
    "        details = scrape_reviews_from_book(url,review_limit)\n",
    "        #If there are no reviews on a page details will be equal to 0\n",
    "        if details == 0:\n",
    "            continue\n",
    "        parsed_books.append(details)\n",
    "        #details[2] is the authors name\n",
    "        if details[2] in male_names:\n",
    "            author_gender[details[1]] = 'Male'\n",
    "        elif details[2] in female_names:\n",
    "            author_gender[details[1]] = 'Female'\n",
    "        else:\n",
    "            author_gender[details[1]] = 'Unknown'\n",
    "        # details[1] is the link url\n",
    "        titles.append(details[1])\n",
    "        # details[3] is a list of the star ratings given\n",
    "        ratings.append(details[3])\n",
    "    return(parsed_books,titles,author_gender,ratings)"
   ]
  },
  {
   "cell_type": "markdown",
   "metadata": {},
   "source": [
    "# Step 4: Sentiment analysis\n",
    "Now I have to do sentiment analysis on the reviews. I used Vader to analyse the sentiment of the reviews. Vader has a lexicon of sentiment related words where each word has a value between -4 and 4. It's a valence-based lexicon, it categorises the words as either negative or positive, positive words have a positive value and negative words have a negative value, but it also indicates the intensity of the sentiment. So 'good' has a value of 1.9 and 'excellent' has a value of 2.7. A value of 4 is the most positive and a value of -4 is the most negative. It’s not just a simple bag of words approach though, it doesn't just match the words in a text with the words in the lexicon. It considers grammatical and syntax cues as well. For example, exclamations marks increase the intensity of a sentiment as does capitalisation. It also considers degree modifiers, 'quite good' is less positive than 'very good'. It looks at the trigram before sentiment related words to see if the polarity is flipped because of negations. For example, 'it’s not very good' is a negative sentence despite 'good' being a positive word. \n",
    "Vader provides four metrics: positive, negative, neutral and compound. Positive, negative and neutral are the proportion of the text that is in each of those categories. Compound is the sum of the valence scores of the words in the text standardised so that it ranges between -1 and 1 with -1 being the most negative and 1 being the most positive.  "
   ]
  },
  {
   "cell_type": "code",
   "execution_count": 18,
   "metadata": {},
   "outputs": [],
   "source": [
    "def sentiment_analysis(parsed_books):\n",
    "    '''\n",
    "    This function uses VADER to do sentiment analysis of the book reviews. This returns a dictionary for each review. \n",
    "                \n",
    "    parameters:\n",
    "        parsed_books (list): a list of a list of the reviews for a book, the book url and the authors name\n",
    "    \n",
    "    return:\n",
    "        scores (array): an array where theres a list for each book and in each list theres a dictionary with the sentiment scores for each review\n",
    "    '''\n",
    "    new_words = {'compelling': 10, 'creative': 5,'unoriginal': -5,'boring': -10}\n",
    "    # Instantiate the sentiment intensity analyzer with the existing lexicon\n",
    "    vader = SentimentIntensityAnalyzer()\n",
    "    # Update the lexicon\n",
    "    vader.lexicon.update(new_words)\n",
    "    # Column names for the dataframe\n",
    "    columns = ['reviews', 'title', 'author_name','stars']\n",
    "    # Convert parsed books into a dataframe\n",
    "    scored_books = pd.DataFrame(parsed_books, columns=columns)\n",
    "    # Getting the polarity scores for each review for each book\n",
    "    scores = [[ vader.polarity_scores(review) for review in review_list] for review_list in scored_books.reviews.values]\n",
    "    return(scores)"
   ]
  },
  {
   "cell_type": "markdown",
   "metadata": {},
   "source": [
    "# Step 5: Making the dataframe\n",
    "Now I have all my components I just need to put them together in a data frame. This will allow the information to be easily accessed and used for analysis. Firstly, I add all the additional data into the sentiment dictionary for each review. Then I make a data frame for each book and append them all vertically so the columns remain the same. Now I have a complete dataframe with all the scraped data that can be used for analysis."
   ]
  },
  {
   "cell_type": "code",
   "execution_count": 19,
   "metadata": {},
   "outputs": [],
   "source": [
    "def make_dataframe(book_genres,scores,titles,author_gender,ratings):\n",
    "    '''\n",
    "    Scores has a dictionary for each review. \n",
    "    These dictionaries are then extended to include the genre, author name and book url. \n",
    "    Then a pandas dataframe is made out of these dictionaries.\n",
    "                \n",
    "    parameters:\n",
    "        book_genres (dict): A dictionary that has the book urls as the key and the book genre as the value\n",
    "        scores (array): an array where theres a list for each book and in each list theres a dictionary with the sentiment scores for each review\n",
    "        titles (list): a list of the book urls\n",
    "        author_gender(dict): A dict where the key is the book url and the value the authors gender\n",
    "    \n",
    "    return:\n",
    "        dataframe: It has a row for each book review and a column for the authors gender, the book url, the book genre and the sentiment analysis score.\n",
    "    '''\n",
    "    log_it('make_dataframe() start : scores size' + str(len(scores)))\n",
    "    for individual_book in scores:\n",
    "        i = 0\n",
    "        for score in individual_book:\n",
    "            score['title'] = titles[scores.index(individual_book)]\n",
    "            score['genre'] = book_genres[score['title']]\n",
    "            score['gender'] = author_gender[score['title']]\n",
    "            score['star_rating'] = ratings[scores.index(individual_book)][i]\n",
    "            i += 1\n",
    "    #A list of dataframes, one dataframe for each book\n",
    "    data_frame_list = [pd.DataFrame(individual_book) for individual_book in scores]\n",
    "    #Concatenating all the dataframes vertically so the columns remain the same.\n",
    "    data_frame_scores = pd.concat(data_frame_list, ignore_index=True)\n",
    "    log_it('make_dataframe() end')\n",
    "    return(data_frame_scores)"
   ]
  },
  {
   "cell_type": "markdown",
   "metadata": {},
   "source": [
    "I created a logging function because the programme takes a long time to run. I wanted to figure out what was making it so slow and if I could make it more efficient. I thought that maybe storing  large amounts of text from the reviews could be a problem as well as the http get requests. I found that it was the http get requests, unsusprisingly, that took a long time. The number of genres times the books per genre determines how long it will take to run. For example if you had 2 genres and 20 books per genres then thats 40 http get requests. The number of reviews per book is pretty inconsequential so I choose to collect large samples of reviews."
   ]
  },
  {
   "cell_type": "code",
   "execution_count": 20,
   "metadata": {},
   "outputs": [],
   "source": [
    "def log_it(log_statement):\n",
    "    log = (str(datetime.now()) + ' :' + log_statement)\n",
    "    log_list.append(log)"
   ]
  },
  {
   "cell_type": "markdown",
   "metadata": {},
   "source": [
    "This function scrapes a selection of genres from the goodreads main page if you want to automatically generate your genre list. I prefer to choose the genres myself manually though so that you can have control over the data collected. I choose to do it as more as an exercise, it hasn't had much of an application. "
   ]
  },
  {
   "cell_type": "code",
   "execution_count": 21,
   "metadata": {},
   "outputs": [],
   "source": [
    "def get_genre_list(max_genres):\n",
    "    soup = make_http_get_request('/list/tag/genre')\n",
    "    genres = soup.find_all('a', class_=\"actionLinkLite\")\n",
    "    genres = genres[0:max_genres]\n",
    "    genre_list = [genre.get_text() for genre in genres]\n",
    "    log_it('get_genre() returns list: '+ str(genre_list))\n",
    "    return(genre_list)"
   ]
  },
  {
   "cell_type": "code",
   "execution_count": 62,
   "metadata": {},
   "outputs": [
    {
     "data": {
      "text/html": [
       "<div>\n",
       "<style scoped>\n",
       "    .dataframe tbody tr th:only-of-type {\n",
       "        vertical-align: middle;\n",
       "    }\n",
       "\n",
       "    .dataframe tbody tr th {\n",
       "        vertical-align: top;\n",
       "    }\n",
       "\n",
       "    .dataframe thead th {\n",
       "        text-align: right;\n",
       "    }\n",
       "</style>\n",
       "<table border=\"1\" class=\"dataframe\">\n",
       "  <thead>\n",
       "    <tr style=\"text-align: right;\">\n",
       "      <th></th>\n",
       "      <th>compound</th>\n",
       "      <th>gender</th>\n",
       "      <th>genre</th>\n",
       "      <th>neg</th>\n",
       "      <th>neu</th>\n",
       "      <th>pos</th>\n",
       "      <th>star_rating</th>\n",
       "      <th>title</th>\n",
       "    </tr>\n",
       "  </thead>\n",
       "  <tbody>\n",
       "    <tr>\n",
       "      <th>0</th>\n",
       "      <td>-0.9813</td>\n",
       "      <td>Female</td>\n",
       "      <td>romance</td>\n",
       "      <td>0.177</td>\n",
       "      <td>0.803</td>\n",
       "      <td>0.020</td>\n",
       "      <td>4</td>\n",
       "      <td>/book/show/1885.Pride_and_Prejudice</td>\n",
       "    </tr>\n",
       "    <tr>\n",
       "      <th>1</th>\n",
       "      <td>-0.9813</td>\n",
       "      <td>Female</td>\n",
       "      <td>romance</td>\n",
       "      <td>0.177</td>\n",
       "      <td>0.803</td>\n",
       "      <td>0.020</td>\n",
       "      <td>5</td>\n",
       "      <td>/book/show/1885.Pride_and_Prejudice</td>\n",
       "    </tr>\n",
       "    <tr>\n",
       "      <th>2</th>\n",
       "      <td>-0.9813</td>\n",
       "      <td>Female</td>\n",
       "      <td>romance</td>\n",
       "      <td>0.177</td>\n",
       "      <td>0.803</td>\n",
       "      <td>0.020</td>\n",
       "      <td>5</td>\n",
       "      <td>/book/show/1885.Pride_and_Prejudice</td>\n",
       "    </tr>\n",
       "    <tr>\n",
       "      <th>3</th>\n",
       "      <td>0.9981</td>\n",
       "      <td>Female</td>\n",
       "      <td>romance</td>\n",
       "      <td>0.062</td>\n",
       "      <td>0.746</td>\n",
       "      <td>0.193</td>\n",
       "      <td>4</td>\n",
       "      <td>/book/show/1885.Pride_and_Prejudice</td>\n",
       "    </tr>\n",
       "    <tr>\n",
       "      <th>4</th>\n",
       "      <td>-0.9813</td>\n",
       "      <td>Female</td>\n",
       "      <td>romance</td>\n",
       "      <td>0.177</td>\n",
       "      <td>0.803</td>\n",
       "      <td>0.020</td>\n",
       "      <td>5</td>\n",
       "      <td>/book/show/1885.Pride_and_Prejudice</td>\n",
       "    </tr>\n",
       "  </tbody>\n",
       "</table>\n",
       "</div>"
      ],
      "text/plain": [
       "   compound  gender    genre    neg    neu    pos  star_rating  \\\n",
       "0   -0.9813  Female  romance  0.177  0.803  0.020            4   \n",
       "1   -0.9813  Female  romance  0.177  0.803  0.020            5   \n",
       "2   -0.9813  Female  romance  0.177  0.803  0.020            5   \n",
       "3    0.9981  Female  romance  0.062  0.746  0.193            4   \n",
       "4   -0.9813  Female  romance  0.177  0.803  0.020            5   \n",
       "\n",
       "                                 title  \n",
       "0  /book/show/1885.Pride_and_Prejudice  \n",
       "1  /book/show/1885.Pride_and_Prejudice  \n",
       "2  /book/show/1885.Pride_and_Prejudice  \n",
       "3  /book/show/1885.Pride_and_Prejudice  \n",
       "4  /book/show/1885.Pride_and_Prejudice  "
      ]
     },
     "execution_count": 62,
     "metadata": {},
     "output_type": "execute_result"
    }
   ],
   "source": [
    "log_list = []\n",
    "book_per_genre_limit = 50\n",
    "review_limit = 200\n",
    "max_genres = 1\n",
    "genre_list = get_genre_list(max_genres)\n",
    "genre_list = ['romance','horror','nonfiction','childrens']\n",
    "dataframe = scrape_all_genres_and_get_dataset(genre_list, book_per_genre_limit, review_limit)\n",
    "dataframe.head()\n"
   ]
  },
  {
   "cell_type": "markdown",
   "metadata": {},
   "source": [
    "Below I've written some code to make some graphs of the data"
   ]
  },
  {
   "cell_type": "code",
   "execution_count": 39,
   "metadata": {},
   "outputs": [],
   "source": [
    "def graph_by_genre(dataframe):\n",
    "    log_it('graph_by_genre() start')\n",
    "    plt.style.use(\"fivethirtyeight\")\n",
    "    %matplotlib inline\n",
    "    mean_score = dataframe.groupby(['genre']).mean()\n",
    "    mean_score = mean_score.xs('compound', axis=1)\n",
    "    mean_score.plot.bar()\n",
    "    log_it('graph_by_genre() end')"
   ]
  },
  {
   "cell_type": "code",
   "execution_count": 65,
   "metadata": {},
   "outputs": [],
   "source": [
    "def graph_by_genre_rating(dataframe):\n",
    "    log_it('graph_by_genre() start')\n",
    "    plt.style.use(\"fivethirtyeight\")\n",
    "    %matplotlib inline\n",
    "    mean_score = dataframe.groupby(['genre']).mean()\n",
    "    mean_score = mean_score.xs('star_rating', axis=1)\n",
    "    mean_score.plot.bar()\n",
    "    log_it('graph_by_genre() end')"
   ]
  },
  {
   "cell_type": "code",
   "execution_count": null,
   "metadata": {},
   "outputs": [],
   "source": [
    "def scatter_plot_genre(dataframe):\n",
    "    mean_score = dataframe.groupby(['genre','star_rating']).mean().reset_index()\n",
    "    sns.scatterplot(x=\"star_rating\", y=\"compound\", data=mean_score, hue = 'genre' )"
   ]
  },
  {
   "cell_type": "code",
   "execution_count": 28,
   "metadata": {},
   "outputs": [],
   "source": [
    "def graph_by_gender(dataframe):\n",
    "    log_it('graph_by_gender() start')\n",
    "    %matplotlib inline\n",
    "    mean_score = dataframe.groupby(['genre','gender']).mean()\n",
    "    mean_score = mean_score.unstack(level=1)\n",
    "    # Get the cross-section of compound in the 'columns' axis\n",
    "    mean_score = mean_score.xs('compound', axis=1)\n",
    "    # Plot a bar chart with pandas\n",
    "    mean_score.plot.bar()\n",
    "    log_it('graph_by_gender() end')"
   ]
  },
  {
   "cell_type": "markdown",
   "metadata": {},
   "source": [
    "# An application of the data\n",
    "I thought it would be interesting to see the relationship between the sentiment of reviews and the star rating for different genres. I wanted to see how it varied from genre to genre, for example what would the average sentiment of three-star reviews be for children’s books compared to romance. \n",
    "Graph_a is a bar chart that shows the average sentiment of all reviews for the different genres. Graph_b is a bar chart that shows the average star rating of all reviews for the different genres. It's not exactly as you'd expect; star rating doesn't increase linearly with sentiment. For example, horror has a very low average sentiment score but a high average star rating. The opposite is true of romance. Graph_c illustrates this well. You can see there's a general positive correlation between star rating and sentiment however different genres have different lines of best fit. I would argue that there are different reasons behind this. I'd say that for horror and romance this could be due to limitations with the sentiment analysis technology. The Vader sentiment analysis ranked the horror reviews as quite negative, this is probably due to the type of language used to discuss horror books. Vader would rate 'terrifying' or 'horrifying' as negative words but in the context of a horror review that wouldn't be the case. Similarly, when reviewing romance many positive words would have to be used regardless of the overall tone of the review. I would say that this is why the sentiment of the horror reviews is lower on average for the star rating than for the other genres. If a human were to manually rate the sentiment I don't think this would be the case. Nonfiction reviews were on average less positive than children’s book reviews for the same star ratings. I think it could be the same as before in that the content of children’s books is typically more positive than the topics written about in nonfiction books. This would mean that nonfiction book reviews would have to use more negative language regardless of the actual sentiment of the review. However, there could some truth to the relationship as well. I could imagine that children book reviewers could be genuinely more positive across the board than non-fiction reviewers. Non-fiction reviewers could just be less forthcoming with praise and happier to criticise at all star rating levels. \n",
    "Overall, I think that this analysis shows a weakness of this type of sentiment analysis, the context of the negative or positive words can't be considered."
   ]
  },
  {
   "cell_type": "code",
   "execution_count": 79,
   "metadata": {},
   "outputs": [
    {
     "data": {
      "image/png": "[encoded data removed]",
      "text/plain": [
       "<Figure size 432x288 with 1 Axes>"
      ]
     },
     "metadata": {
      "needs_background": "light"
     },
     "output_type": "display_data"
    }
   ],
   "source": [
    "graph_a = graph_by_genre(dataframe)\n",
    "graph_a"
   ]
  },
  {
   "cell_type": "code",
   "execution_count": 81,
   "metadata": {},
   "outputs": [
    {
     "data": {
      "image/png": "[encoded data removed]",
      "text/plain": [
       "<Figure size 432x288 with 1 Axes>"
      ]
     },
     "metadata": {
      "needs_background": "light"
     },
     "output_type": "display_data"
    }
   ],
   "source": [
    "graph_b = graph_by_genre_rating(dataframe)\n",
    "graph_b "
   ]
  },
  {
   "cell_type": "code",
   "execution_count": 82,
   "metadata": {},
   "outputs": [
    {
     "data": {
      "image/png": "[encoded data removed]",
      "text/plain": [
       "<Figure size 432x288 with 1 Axes>"
      ]
     },
     "metadata": {
      "needs_background": "light"
     },
     "output_type": "display_data"
    }
   ],
   "source": [
    "graph_c = scatter_plot_genre(dataframe)\n",
    "graph_c"
   ]
  },
  {
   "cell_type": "markdown",
   "metadata": {},
   "source": [
    "Graph d is a graph that shows the sentiment for average sentiment for reviews grouped by genre and authors gender."
   ]
  },
  {
   "cell_type": "code",
   "execution_count": 86,
   "metadata": {},
   "outputs": [
    {
     "data": {
      "image/png": "[encoded data removed]",
      "text/plain": [
       "<Figure size 432x288 with 1 Axes>"
      ]
     },
     "metadata": {
      "needs_background": "light"
     },
     "output_type": "display_data"
    }
   ],
   "source": [
    "graph_d = graph_by_gender(dataframe)\n",
    "graph_d"
   ]
  },
  {
   "cell_type": "code",
   "execution_count": 291,
   "metadata": {},
   "outputs": [
    {
     "data": {
      "text/plain": [
       "['2020-05-04 19:52:06.473965 :make_http_get_request() start : /list/tag/genre',\n",
       " '2020-05-04 19:52:08.029459 :make_http_get_request() end : /list/tag/genre',\n",
       " \"2020-05-04 19:52:09.096178 :get_genre() returns list: ['romance']\",\n",
       " '2020-05-04 19:52:09.096349 :make_http_get_request() start : /shelf/show/comedy',\n",
       " '2020-05-04 19:52:11.209392 :make_http_get_request() end : /shelf/show/comedy',\n",
       " '2020-05-04 19:52:12.652832 :make_http_get_request() start : /shelf/show/historical fiction',\n",
       " '2020-05-04 19:52:14.787735 :make_http_get_request() end : /shelf/show/historical fiction',\n",
       " '2020-05-04 19:52:16.383220 :make_http_get_request() start : /book/show/386162.The_Hitchhiker_s_Guide_to_the_Galaxy',\n",
       " '2020-05-04 19:52:20.525631 :make_http_get_request() end : /book/show/386162.The_Hitchhiker_s_Guide_to_the_Galaxy',\n",
       " '2020-05-04 19:52:23.527814 :make_http_get_request() start : /book/show/9418327-bossypants',\n",
       " '2020-05-04 19:52:27.482103 :make_http_get_request() end : /book/show/9418327-bossypants',\n",
       " '2020-05-04 19:52:30.324245 :make_http_get_request() start : /book/show/12067.Good_Omens',\n",
       " '2020-05-04 19:52:34.853002 :make_http_get_request() end : /book/show/12067.Good_Omens',\n",
       " '2020-05-04 19:52:38.585821 :make_http_get_request() start : /book/show/20910157-yes-please',\n",
       " '2020-05-04 19:52:43.194011 :make_http_get_request() end : /book/show/20910157-yes-please',\n",
       " '2020-05-04 19:52:46.383437 :make_http_get_request() start : /book/show/10335308-is-everyone-hanging-out-without-me',\n",
       " '2020-05-04 19:52:50.216465 :make_http_get_request() end : /book/show/10335308-is-everyone-hanging-out-without-me',\n",
       " '2020-05-04 19:52:52.986055 :make_http_get_request() start : /book/show/8695.The_Restaurant_at_the_End_of_the_Universe',\n",
       " '2020-05-04 19:52:56.324060 :make_http_get_request() end : /book/show/8695.The_Restaurant_at_the_End_of_the_Universe',\n",
       " '2020-05-04 19:52:59.303134 :make_http_get_request() start : /book/show/4137.Me_Talk_Pretty_One_Day',\n",
       " '2020-05-04 19:53:03.218476 :make_http_get_request() end : /book/show/4137.Me_Talk_Pretty_One_Day',\n",
       " '2020-05-04 19:53:05.939440 :make_http_get_request() start : /book/show/34497.The_Color_of_Magic',\n",
       " '2020-05-04 19:53:09.984010 :make_http_get_request() end : /book/show/34497.The_Color_of_Magic',\n",
       " '2020-05-04 19:53:13.375356 :make_http_get_request() start : /book/show/8694.Life_the_Universe_and_Everything',\n",
       " '2020-05-04 19:53:16.836172 :make_http_get_request() end : /book/show/8694.Life_the_Universe_and_Everything',\n",
       " '2020-05-04 19:53:20.069058 :make_http_get_request() start : /book/show/6091075-so-long-and-thanks-for-all-the-fish',\n",
       " '2020-05-04 19:53:23.887944 :make_http_get_request() end : /book/show/6091075-so-long-and-thanks-for-all-the-fish',\n",
       " '2020-05-04 19:53:26.945110 :make_http_get_request() start : /book/show/21449526-assuming-names',\n",
       " '2020-05-04 19:53:30.653255 :make_http_get_request() end : /book/show/21449526-assuming-names',\n",
       " '2020-05-04 19:53:33.692639 :make_http_get_request() start : /book/show/28881.Lamb',\n",
       " '2020-05-04 19:53:38.134674 :make_http_get_request() end : /book/show/28881.Lamb',\n",
       " '2020-05-04 19:53:41.496477 :make_http_get_request() start : /book/show/21787.The_Princess_Bride',\n",
       " '2020-05-04 19:53:45.610186 :make_http_get_request() end : /book/show/21787.The_Princess_Bride',\n",
       " '2020-05-04 19:53:48.535696 :make_http_get_request() start : /book/show/386372.Mort',\n",
       " '2020-05-04 19:53:52.785418 :make_http_get_request() end : /book/show/386372.Mort',\n",
       " '2020-05-04 19:53:55.647619 :make_http_get_request() start : /book/show/92303.The_Importance_of_Being_Earnest',\n",
       " '2020-05-04 19:53:59.432132 :make_http_get_request() end : /book/show/92303.The_Importance_of_Being_Earnest',\n",
       " '2020-05-04 19:54:02.505815 :make_http_get_request() start : /book/show/569429.Mostly_Harmless',\n",
       " '2020-05-04 19:54:06.090033 :make_http_get_request() end : /book/show/569429.Mostly_Harmless',\n",
       " '2020-05-04 19:54:09.145338 :make_http_get_request() start : /book/show/13.The_Ultimate_Hitchhiker_s_Guide_to_the_Galaxy',\n",
       " '2020-05-04 19:54:12.747281 :make_http_get_request() end : /book/show/13.The_Ultimate_Hitchhiker_s_Guide_to_the_Galaxy',\n",
       " '2020-05-04 19:54:15.720534 :make_http_get_request() start : /book/show/34506.The_Light_Fantastic',\n",
       " '2020-05-04 19:54:19.810224 :make_http_get_request() end : /book/show/34506.The_Light_Fantastic',\n",
       " '2020-05-04 19:54:22.982533 :make_http_get_request() start : /book/show/36043601-red-russia',\n",
       " '2020-05-04 19:54:26.075510 :make_http_get_request() end : /book/show/36043601-red-russia',\n",
       " '2020-05-04 19:54:28.397179 :make_http_get_request() start : /book/show/40173.Are_You_There_Vodka_It_s_Me_Chelsea',\n",
       " '2020-05-04 19:54:32.067936 :make_http_get_request() end : /book/show/40173.Are_You_There_Vodka_It_s_Me_Chelsea',\n",
       " '2020-05-04 19:54:35.274469 :make_http_get_request() start : /book/show/19063.The_Book_Thief',\n",
       " '2020-05-04 19:54:39.572512 :make_http_get_request() end : /book/show/19063.The_Book_Thief',\n",
       " '2020-05-04 19:54:42.734506 :make_http_get_request() start : /book/show/18143977-all-the-light-we-cannot-see',\n",
       " '2020-05-04 19:54:46.659624 :make_http_get_request() end : /book/show/18143977-all-the-light-we-cannot-see',\n",
       " '2020-05-04 19:54:49.959360 :make_http_get_request() start : /book/show/10964.Outlander',\n",
       " '2020-05-04 19:54:54.541887 :make_http_get_request() end : /book/show/10964.Outlander',\n",
       " '2020-05-04 19:54:58.110580 :make_http_get_request() start : /book/show/4667024-the-help',\n",
       " '2020-05-04 19:55:02.957864 :make_http_get_request() end : /book/show/4667024-the-help',\n",
       " '2020-05-04 19:55:05.948901 :make_http_get_request() start : /book/show/21853621-the-nightingale',\n",
       " '2020-05-04 19:55:10.102535 :make_http_get_request() end : /book/show/21853621-the-nightingale',\n",
       " '2020-05-04 19:55:13.459200 :make_http_get_request() start : /book/show/5043.The_Pillars_of_the_Earth',\n",
       " '2020-05-04 19:55:18.494597 :make_http_get_request() end : /book/show/5043.The_Pillars_of_the_Earth',\n",
       " '2020-05-04 19:55:22.135668 :make_http_get_request() start : /book/show/929.Memoirs_of_a_Geisha',\n",
       " '2020-05-04 19:55:26.152082 :make_http_get_request() end : /book/show/929.Memoirs_of_a_Geisha',\n",
       " '2020-05-04 19:55:29.611713 :make_http_get_request() start : /book/show/37470.The_Other_Boleyn_Girl',\n",
       " '2020-05-04 19:55:34.050987 :make_http_get_request() end : /book/show/37470.The_Other_Boleyn_Girl',\n",
       " '2020-05-04 19:55:38.385490 :make_http_get_request() start : /book/show/39832183-the-guernsey-literary-and-potato-peel-pie-society',\n",
       " '2020-05-04 19:55:41.775693 :make_http_get_request() end : /book/show/39832183-the-guernsey-literary-and-potato-peel-pie-society',\n",
       " '2020-05-04 19:55:44.780931 :make_http_get_request() start : /book/show/2657.To_Kill_a_Mockingbird',\n",
       " '2020-05-04 19:55:48.705323 :make_http_get_request() end : /book/show/2657.To_Kill_a_Mockingbird',\n",
       " '2020-05-04 19:55:51.854289 :make_http_get_request() start : /book/show/18405.Gone_with_the_Wind',\n",
       " '2020-05-04 19:55:56.039714 :make_http_get_request() end : /book/show/18405.Gone_with_the_Wind',\n",
       " '2020-05-04 19:55:59.136134 :make_http_get_request() start : /book/show/2865.Girl_with_a_Pearl_Earring',\n",
       " '2020-05-04 19:56:03.360230 :make_http_get_request() end : /book/show/2865.Girl_with_a_Pearl_Earring',\n",
       " '2020-05-04 19:56:06.394915 :make_http_get_request() start : /book/show/7824322-between-shades-of-gray',\n",
       " '2020-05-04 19:56:10.097832 :make_http_get_request() end : /book/show/7824322-between-shades-of-gray',\n",
       " '2020-05-04 19:56:12.994301 :make_http_get_request() start : /book/show/5364.Dragonfly_in_Amber',\n",
       " '2020-05-04 19:56:17.390400 :make_http_get_request() end : /book/show/5364.Dragonfly_in_Amber',\n",
       " '2020-05-04 19:56:20.676166 :make_http_get_request() start : /book/show/7826803-wolf-hall',\n",
       " '2020-05-04 19:56:25.547317 :make_http_get_request() end : /book/show/7826803-wolf-hall',\n",
       " '2020-05-04 19:56:29.284070 :make_http_get_request() start : /book/show/11925514-code-name-verity',\n",
       " '2020-05-04 19:56:32.724822 :make_http_get_request() end : /book/show/11925514-code-name-verity',\n",
       " '2020-05-04 19:56:35.851883 :make_http_get_request() start : /book/show/43641.Water_for_Elephants',\n",
       " '2020-05-04 19:56:39.384062 :make_http_get_request() end : /book/show/43641.Water_for_Elephants',\n",
       " '2020-05-04 19:56:42.219551 :make_http_get_request() start : /book/show/39999.The_Boy_in_the_Striped_Pajamas',\n",
       " '2020-05-04 19:56:45.924597 :make_http_get_request() end : /book/show/39999.The_Boy_in_the_Striped_Pajamas',\n",
       " '2020-05-04 19:56:48.832153 :make_http_get_request() start : /book/show/47281.Number_the_Stars',\n",
       " '2020-05-04 19:56:52.477761 :make_http_get_request() end : /book/show/47281.Number_the_Stars',\n",
       " '2020-05-04 19:56:55.459076 :make_http_get_request() start : /book/show/25614492-salt-to-the-sea',\n",
       " '2020-05-04 19:56:59.447837 :make_http_get_request() end : /book/show/25614492-salt-to-the-sea',\n",
       " '2020-05-04 19:57:02.130908 :make_dataframe() start : parsed_books size40',\n",
       " '2020-05-04 19:57:06.451263 :make_dataframe() end',\n",
       " '2020-05-04 19:57:42.207470 :graph_by_genre() start',\n",
       " '2020-05-04 19:57:42.256115 :graph_by_genre() end',\n",
       " '2020-05-04 19:57:51.831552 :graph_by_gender() start',\n",
       " '2020-05-04 19:57:51.886833 :graph_by_gender() end']"
      ]
     },
     "execution_count": 291,
     "metadata": {},
     "output_type": "execute_result"
    }
   ],
   "source": [
    "log_list"
   ]
  }
 ],
 "metadata": {
  "kernelspec": {
   "display_name": "Python 3",
   "language": "python",
   "name": "python3"
  },
  "language_info": {
   "codemirror_mode": {
    "name": "ipython",
    "version": 3
   },
   "file_extension": ".py",
   "mimetype": "text/x-python",
   "name": "python",
   "nbconvert_exporter": "python",
   "pygments_lexer": "ipython3",
   "version": "3.7.6"
  }
 },
 "nbformat": 4,
 "nbformat_minor": 2
}
